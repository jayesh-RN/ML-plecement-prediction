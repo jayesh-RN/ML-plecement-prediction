{
 "cells": [
  {
   "cell_type": "code",
   "execution_count": 1,
   "id": "faf69a1e",
   "metadata": {},
   "outputs": [],
   "source": [
    "import numpy as np\n",
    "import pandas as pd"
   ]
  },
  {
   "cell_type": "code",
   "execution_count": 2,
   "id": "bc22ce98",
   "metadata": {},
   "outputs": [
    {
     "data": {
      "text/html": [
       "<div>\n",
       "<style scoped>\n",
       "    .dataframe tbody tr th:only-of-type {\n",
       "        vertical-align: middle;\n",
       "    }\n",
       "\n",
       "    .dataframe tbody tr th {\n",
       "        vertical-align: top;\n",
       "    }\n",
       "\n",
       "    .dataframe thead th {\n",
       "        text-align: right;\n",
       "    }\n",
       "</style>\n",
       "<table border=\"1\" class=\"dataframe\">\n",
       "  <thead>\n",
       "    <tr style=\"text-align: right;\">\n",
       "      <th></th>\n",
       "      <th>gender</th>\n",
       "      <th>ssc_percentage</th>\n",
       "      <th>ssc_board</th>\n",
       "      <th>hsc_percentage</th>\n",
       "      <th>hsc_board</th>\n",
       "      <th>hsc_subject</th>\n",
       "      <th>degree_percentage</th>\n",
       "      <th>undergrad_degree</th>\n",
       "      <th>work_experience</th>\n",
       "      <th>emp_test_percentage</th>\n",
       "      <th>specialisation</th>\n",
       "      <th>mba_percent</th>\n",
       "      <th>status</th>\n",
       "    </tr>\n",
       "  </thead>\n",
       "  <tbody>\n",
       "    <tr>\n",
       "      <th>0</th>\n",
       "      <td>M</td>\n",
       "      <td>67.00</td>\n",
       "      <td>Others</td>\n",
       "      <td>91.00</td>\n",
       "      <td>Others</td>\n",
       "      <td>Commerce</td>\n",
       "      <td>58.00</td>\n",
       "      <td>Sci&amp;Tech</td>\n",
       "      <td>No</td>\n",
       "      <td>55.0</td>\n",
       "      <td>Mkt&amp;HR</td>\n",
       "      <td>58.80</td>\n",
       "      <td>Placed</td>\n",
       "    </tr>\n",
       "    <tr>\n",
       "      <th>1</th>\n",
       "      <td>M</td>\n",
       "      <td>79.33</td>\n",
       "      <td>Central</td>\n",
       "      <td>78.33</td>\n",
       "      <td>Others</td>\n",
       "      <td>Science</td>\n",
       "      <td>77.48</td>\n",
       "      <td>Sci&amp;Tech</td>\n",
       "      <td>Yes</td>\n",
       "      <td>86.5</td>\n",
       "      <td>Mkt&amp;Fin</td>\n",
       "      <td>66.28</td>\n",
       "      <td>Placed</td>\n",
       "    </tr>\n",
       "    <tr>\n",
       "      <th>2</th>\n",
       "      <td>M</td>\n",
       "      <td>65.00</td>\n",
       "      <td>Central</td>\n",
       "      <td>68.00</td>\n",
       "      <td>Central</td>\n",
       "      <td>Arts</td>\n",
       "      <td>64.00</td>\n",
       "      <td>Comm&amp;Mgmt</td>\n",
       "      <td>No</td>\n",
       "      <td>75.0</td>\n",
       "      <td>Mkt&amp;Fin</td>\n",
       "      <td>57.80</td>\n",
       "      <td>Placed</td>\n",
       "    </tr>\n",
       "    <tr>\n",
       "      <th>3</th>\n",
       "      <td>M</td>\n",
       "      <td>56.00</td>\n",
       "      <td>Central</td>\n",
       "      <td>52.00</td>\n",
       "      <td>Central</td>\n",
       "      <td>Science</td>\n",
       "      <td>52.00</td>\n",
       "      <td>Sci&amp;Tech</td>\n",
       "      <td>No</td>\n",
       "      <td>66.0</td>\n",
       "      <td>Mkt&amp;HR</td>\n",
       "      <td>59.43</td>\n",
       "      <td>Not Placed</td>\n",
       "    </tr>\n",
       "    <tr>\n",
       "      <th>4</th>\n",
       "      <td>M</td>\n",
       "      <td>85.80</td>\n",
       "      <td>Central</td>\n",
       "      <td>73.60</td>\n",
       "      <td>Central</td>\n",
       "      <td>Commerce</td>\n",
       "      <td>73.30</td>\n",
       "      <td>Comm&amp;Mgmt</td>\n",
       "      <td>No</td>\n",
       "      <td>96.8</td>\n",
       "      <td>Mkt&amp;Fin</td>\n",
       "      <td>55.50</td>\n",
       "      <td>Placed</td>\n",
       "    </tr>\n",
       "  </tbody>\n",
       "</table>\n",
       "</div>"
      ],
      "text/plain": [
       "  gender  ssc_percentage ssc_board  hsc_percentage hsc_board hsc_subject  \\\n",
       "0      M           67.00    Others           91.00    Others    Commerce   \n",
       "1      M           79.33   Central           78.33    Others     Science   \n",
       "2      M           65.00   Central           68.00   Central        Arts   \n",
       "3      M           56.00   Central           52.00   Central     Science   \n",
       "4      M           85.80   Central           73.60   Central    Commerce   \n",
       "\n",
       "   degree_percentage undergrad_degree work_experience  emp_test_percentage  \\\n",
       "0              58.00         Sci&Tech              No                 55.0   \n",
       "1              77.48         Sci&Tech             Yes                 86.5   \n",
       "2              64.00        Comm&Mgmt              No                 75.0   \n",
       "3              52.00         Sci&Tech              No                 66.0   \n",
       "4              73.30        Comm&Mgmt              No                 96.8   \n",
       "\n",
       "  specialisation  mba_percent      status  \n",
       "0         Mkt&HR        58.80      Placed  \n",
       "1        Mkt&Fin        66.28      Placed  \n",
       "2        Mkt&Fin        57.80      Placed  \n",
       "3         Mkt&HR        59.43  Not Placed  \n",
       "4        Mkt&Fin        55.50      Placed  "
      ]
     },
     "execution_count": 2,
     "metadata": {},
     "output_type": "execute_result"
    }
   ],
   "source": [
    "df = pd.read_csv(\"Job_Placement_Data.csv\")\n",
    "df.head()"
   ]
  },
  {
   "cell_type": "markdown",
   "id": "f60038e7",
   "metadata": {},
   "source": [
    "# 1 Preprocessing"
   ]
  },
  {
   "cell_type": "code",
   "execution_count": 3,
   "id": "17fd5638",
   "metadata": {},
   "outputs": [
    {
     "data": {
      "text/plain": [
       "(215, 13)"
      ]
     },
     "execution_count": 3,
     "metadata": {},
     "output_type": "execute_result"
    }
   ],
   "source": [
    "df.shape"
   ]
  },
  {
   "cell_type": "code",
   "execution_count": 4,
   "id": "12fc6008",
   "metadata": {},
   "outputs": [
    {
     "data": {
      "text/plain": [
       "gender                 0\n",
       "ssc_percentage         0\n",
       "ssc_board              0\n",
       "hsc_percentage         0\n",
       "hsc_board              0\n",
       "hsc_subject            0\n",
       "degree_percentage      0\n",
       "undergrad_degree       0\n",
       "work_experience        0\n",
       "emp_test_percentage    0\n",
       "specialisation         0\n",
       "mba_percent            0\n",
       "status                 0\n",
       "dtype: int64"
      ]
     },
     "execution_count": 4,
     "metadata": {},
     "output_type": "execute_result"
    }
   ],
   "source": [
    "df.isnull().sum()"
   ]
  },
  {
   "cell_type": "code",
   "execution_count": 5,
   "id": "24198a6b",
   "metadata": {},
   "outputs": [
    {
     "data": {
      "text/plain": [
       "0"
      ]
     },
     "execution_count": 5,
     "metadata": {},
     "output_type": "execute_result"
    }
   ],
   "source": [
    "df.duplicated().sum()"
   ]
  },
  {
   "cell_type": "code",
   "execution_count": 6,
   "id": "edecc684",
   "metadata": {},
   "outputs": [
    {
     "name": "stdout",
     "output_type": "stream",
     "text": [
      "<class 'pandas.core.frame.DataFrame'>\n",
      "RangeIndex: 215 entries, 0 to 214\n",
      "Data columns (total 13 columns):\n",
      " #   Column               Non-Null Count  Dtype  \n",
      "---  ------               --------------  -----  \n",
      " 0   gender               215 non-null    object \n",
      " 1   ssc_percentage       215 non-null    float64\n",
      " 2   ssc_board            215 non-null    object \n",
      " 3   hsc_percentage       215 non-null    float64\n",
      " 4   hsc_board            215 non-null    object \n",
      " 5   hsc_subject          215 non-null    object \n",
      " 6   degree_percentage    215 non-null    float64\n",
      " 7   undergrad_degree     215 non-null    object \n",
      " 8   work_experience      215 non-null    object \n",
      " 9   emp_test_percentage  215 non-null    float64\n",
      " 10  specialisation       215 non-null    object \n",
      " 11  mba_percent          215 non-null    float64\n",
      " 12  status               215 non-null    object \n",
      "dtypes: float64(5), object(8)\n",
      "memory usage: 22.0+ KB\n"
     ]
    }
   ],
   "source": [
    "df.info()"
   ]
  },
  {
   "cell_type": "code",
   "execution_count": 7,
   "id": "28aa6979",
   "metadata": {},
   "outputs": [
    {
     "data": {
      "text/plain": [
       "0          Placed\n",
       "1          Placed\n",
       "2          Placed\n",
       "3      Not Placed\n",
       "4          Placed\n",
       "          ...    \n",
       "210        Placed\n",
       "211        Placed\n",
       "212        Placed\n",
       "213        Placed\n",
       "214    Not Placed\n",
       "Name: status, Length: 215, dtype: object"
      ]
     },
     "execution_count": 7,
     "metadata": {},
     "output_type": "execute_result"
    }
   ],
   "source": [
    "df['status']"
   ]
  },
  {
   "cell_type": "code",
   "execution_count": 8,
   "id": "2322dc3a",
   "metadata": {},
   "outputs": [
    {
     "data": {
      "text/html": [
       "<div>\n",
       "<style scoped>\n",
       "    .dataframe tbody tr th:only-of-type {\n",
       "        vertical-align: middle;\n",
       "    }\n",
       "\n",
       "    .dataframe tbody tr th {\n",
       "        vertical-align: top;\n",
       "    }\n",
       "\n",
       "    .dataframe thead th {\n",
       "        text-align: right;\n",
       "    }\n",
       "</style>\n",
       "<table border=\"1\" class=\"dataframe\">\n",
       "  <thead>\n",
       "    <tr style=\"text-align: right;\">\n",
       "      <th></th>\n",
       "      <th>ssc_percentage</th>\n",
       "      <th>hsc_percentage</th>\n",
       "      <th>degree_percentage</th>\n",
       "      <th>emp_test_percentage</th>\n",
       "      <th>mba_percent</th>\n",
       "    </tr>\n",
       "  </thead>\n",
       "  <tbody>\n",
       "    <tr>\n",
       "      <th>count</th>\n",
       "      <td>215.000000</td>\n",
       "      <td>215.000000</td>\n",
       "      <td>215.000000</td>\n",
       "      <td>215.000000</td>\n",
       "      <td>215.000000</td>\n",
       "    </tr>\n",
       "    <tr>\n",
       "      <th>mean</th>\n",
       "      <td>67.303395</td>\n",
       "      <td>66.333163</td>\n",
       "      <td>66.370186</td>\n",
       "      <td>72.100558</td>\n",
       "      <td>62.278186</td>\n",
       "    </tr>\n",
       "    <tr>\n",
       "      <th>std</th>\n",
       "      <td>10.827205</td>\n",
       "      <td>10.897509</td>\n",
       "      <td>7.358743</td>\n",
       "      <td>13.275956</td>\n",
       "      <td>5.833385</td>\n",
       "    </tr>\n",
       "    <tr>\n",
       "      <th>min</th>\n",
       "      <td>40.890000</td>\n",
       "      <td>37.000000</td>\n",
       "      <td>50.000000</td>\n",
       "      <td>50.000000</td>\n",
       "      <td>51.210000</td>\n",
       "    </tr>\n",
       "    <tr>\n",
       "      <th>25%</th>\n",
       "      <td>60.600000</td>\n",
       "      <td>60.900000</td>\n",
       "      <td>61.000000</td>\n",
       "      <td>60.000000</td>\n",
       "      <td>57.945000</td>\n",
       "    </tr>\n",
       "    <tr>\n",
       "      <th>50%</th>\n",
       "      <td>67.000000</td>\n",
       "      <td>65.000000</td>\n",
       "      <td>66.000000</td>\n",
       "      <td>71.000000</td>\n",
       "      <td>62.000000</td>\n",
       "    </tr>\n",
       "    <tr>\n",
       "      <th>75%</th>\n",
       "      <td>75.700000</td>\n",
       "      <td>73.000000</td>\n",
       "      <td>72.000000</td>\n",
       "      <td>83.500000</td>\n",
       "      <td>66.255000</td>\n",
       "    </tr>\n",
       "    <tr>\n",
       "      <th>max</th>\n",
       "      <td>89.400000</td>\n",
       "      <td>97.700000</td>\n",
       "      <td>91.000000</td>\n",
       "      <td>98.000000</td>\n",
       "      <td>77.890000</td>\n",
       "    </tr>\n",
       "  </tbody>\n",
       "</table>\n",
       "</div>"
      ],
      "text/plain": [
       "       ssc_percentage  hsc_percentage  degree_percentage  emp_test_percentage  \\\n",
       "count      215.000000      215.000000         215.000000           215.000000   \n",
       "mean        67.303395       66.333163          66.370186            72.100558   \n",
       "std         10.827205       10.897509           7.358743            13.275956   \n",
       "min         40.890000       37.000000          50.000000            50.000000   \n",
       "25%         60.600000       60.900000          61.000000            60.000000   \n",
       "50%         67.000000       65.000000          66.000000            71.000000   \n",
       "75%         75.700000       73.000000          72.000000            83.500000   \n",
       "max         89.400000       97.700000          91.000000            98.000000   \n",
       "\n",
       "       mba_percent  \n",
       "count   215.000000  \n",
       "mean     62.278186  \n",
       "std       5.833385  \n",
       "min      51.210000  \n",
       "25%      57.945000  \n",
       "50%      62.000000  \n",
       "75%      66.255000  \n",
       "max      77.890000  "
      ]
     },
     "execution_count": 8,
     "metadata": {},
     "output_type": "execute_result"
    }
   ],
   "source": [
    "df.describe()"
   ]
  },
  {
   "cell_type": "markdown",
   "id": "ebdfd2a4",
   "metadata": {},
   "source": [
    "# 2 EDA (Exploratory Data Analysis)"
   ]
  },
  {
   "cell_type": "code",
   "execution_count": 9,
   "id": "99762cd9",
   "metadata": {},
   "outputs": [
    {
     "data": {
      "text/html": [
       "<div>\n",
       "<style scoped>\n",
       "    .dataframe tbody tr th:only-of-type {\n",
       "        vertical-align: middle;\n",
       "    }\n",
       "\n",
       "    .dataframe tbody tr th {\n",
       "        vertical-align: top;\n",
       "    }\n",
       "\n",
       "    .dataframe thead th {\n",
       "        text-align: right;\n",
       "    }\n",
       "</style>\n",
       "<table border=\"1\" class=\"dataframe\">\n",
       "  <thead>\n",
       "    <tr style=\"text-align: right;\">\n",
       "      <th></th>\n",
       "      <th>ssc_percentage</th>\n",
       "      <th>hsc_percentage</th>\n",
       "      <th>degree_percentage</th>\n",
       "      <th>emp_test_percentage</th>\n",
       "      <th>mba_percent</th>\n",
       "    </tr>\n",
       "  </thead>\n",
       "  <tbody>\n",
       "    <tr>\n",
       "      <th>ssc_percentage</th>\n",
       "      <td>1.000000</td>\n",
       "      <td>0.511472</td>\n",
       "      <td>0.538404</td>\n",
       "      <td>0.261993</td>\n",
       "      <td>0.388478</td>\n",
       "    </tr>\n",
       "    <tr>\n",
       "      <th>hsc_percentage</th>\n",
       "      <td>0.511472</td>\n",
       "      <td>1.000000</td>\n",
       "      <td>0.434206</td>\n",
       "      <td>0.245113</td>\n",
       "      <td>0.354823</td>\n",
       "    </tr>\n",
       "    <tr>\n",
       "      <th>degree_percentage</th>\n",
       "      <td>0.538404</td>\n",
       "      <td>0.434206</td>\n",
       "      <td>1.000000</td>\n",
       "      <td>0.224470</td>\n",
       "      <td>0.402364</td>\n",
       "    </tr>\n",
       "    <tr>\n",
       "      <th>emp_test_percentage</th>\n",
       "      <td>0.261993</td>\n",
       "      <td>0.245113</td>\n",
       "      <td>0.224470</td>\n",
       "      <td>1.000000</td>\n",
       "      <td>0.218055</td>\n",
       "    </tr>\n",
       "    <tr>\n",
       "      <th>mba_percent</th>\n",
       "      <td>0.388478</td>\n",
       "      <td>0.354823</td>\n",
       "      <td>0.402364</td>\n",
       "      <td>0.218055</td>\n",
       "      <td>1.000000</td>\n",
       "    </tr>\n",
       "  </tbody>\n",
       "</table>\n",
       "</div>"
      ],
      "text/plain": [
       "                     ssc_percentage  hsc_percentage  degree_percentage  \\\n",
       "ssc_percentage             1.000000        0.511472           0.538404   \n",
       "hsc_percentage             0.511472        1.000000           0.434206   \n",
       "degree_percentage          0.538404        0.434206           1.000000   \n",
       "emp_test_percentage        0.261993        0.245113           0.224470   \n",
       "mba_percent                0.388478        0.354823           0.402364   \n",
       "\n",
       "                     emp_test_percentage  mba_percent  \n",
       "ssc_percentage                  0.261993     0.388478  \n",
       "hsc_percentage                  0.245113     0.354823  \n",
       "degree_percentage               0.224470     0.402364  \n",
       "emp_test_percentage             1.000000     0.218055  \n",
       "mba_percent                     0.218055     1.000000  "
      ]
     },
     "execution_count": 9,
     "metadata": {},
     "output_type": "execute_result"
    }
   ],
   "source": [
    "# relationship\n",
    "corr = df.corr()\n",
    "corr"
   ]
  },
  {
   "cell_type": "code",
   "execution_count": 10,
   "id": "e83fc87d",
   "metadata": {},
   "outputs": [
    {
     "data": {
      "text/plain": [
       "<Axes: >"
      ]
     },
     "execution_count": 10,
     "metadata": {},
     "output_type": "execute_result"
    },
    {
     "data": {
      "image/png": "[encoded data removed]",
      "text/plain": [
       "<Figure size 432x288 with 2 Axes>"
      ]
     },
     "metadata": {
      "needs_background": "light"
     },
     "output_type": "display_data"
    }
   ],
   "source": [
    "import seaborn as sns\n",
    "sns.heatmap(corr,cmap='plasma',annot=True,fmt=\".2f\")"
   ]
  },
  {
   "cell_type": "markdown",
   "id": "5272ca0d",
   "metadata": {},
   "source": [
    "# Plot a histogram of the ssc_percentage column"
   ]
  },
  {
   "cell_type": "code",
   "execution_count": 11,
   "id": "7758a06e",
   "metadata": {},
   "outputs": [
    {
     "data": {
      "image/png": "[encoded data removed]",
      "text/plain": [
       "<Figure size 432x288 with 1 Axes>"
      ]
     },
     "metadata": {
      "needs_background": "light"
     },
     "output_type": "display_data"
    }
   ],
   "source": [
    "import matplotlib.pyplot as plt\n",
    "plt.hist(df['ssc_percentage'],bins=20)\n",
    "plt.title(\"Distribution of SSC Percentage\")\n",
    "plt.xlabel('Percentage')\n",
    "plt.ylabel('count')\n",
    "plt.show()"
   ]
  },
  {
   "cell_type": "code",
   "execution_count": 12,
   "id": "0bae767f",
   "metadata": {},
   "outputs": [
    {
     "data": {
      "image/png": "[encoded data removed]",
      "text/plain": [
       "<Figure size 432x288 with 1 Axes>"
      ]
     },
     "metadata": {
      "needs_background": "light"
     },
     "output_type": "display_data"
    }
   ],
   "source": [
    "import matplotlib.pyplot as plt\n",
    "plt.hist(df['gender'],bins=20)\n",
    "plt.title(\"Distribution of Male & Female\")\n",
    "plt.xlabel('Gender')\n",
    "plt.ylabel('count')\n",
    "plt.show()"
   ]
  },
  {
   "cell_type": "markdown",
   "id": "5ec81afc",
   "metadata": {},
   "source": [
    "\n",
    "# Plot a scatterplot of ssc_percentage vs. hsc_percentage"
   ]
  },
  {
   "cell_type": "code",
   "execution_count": 13,
   "id": "fef51300",
   "metadata": {},
   "outputs": [
    {
     "data": {
      "image/png": "[encoded data removed]",
      "text/plain": [
       "<Figure size 432x288 with 1 Axes>"
      ]
     },
     "metadata": {
      "needs_background": "light"
     },
     "output_type": "display_data"
    }
   ],
   "source": [
    "sns.scatterplot(x='ssc_percentage',y='hsc_percentage',data=df,hue='status')\n",
    "plt.title(\"Correlation bw SSC and HSC Percentage\")\n",
    "plt.show()"
   ]
  },
  {
   "cell_type": "markdown",
   "id": "a5f0730e",
   "metadata": {},
   "source": [
    "# Plot a scatterplot of ssc_percentage vs. hsc_percentage"
   ]
  },
  {
   "cell_type": "code",
   "execution_count": 14,
   "id": "80aa95ab",
   "metadata": {},
   "outputs": [
    {
     "data": {
      "image/png": "[encoded data removed]",
      "text/plain": [
       "<Figure size 432x288 with 1 Axes>"
      ]
     },
     "metadata": {
      "needs_background": "light"
     },
     "output_type": "display_data"
    }
   ],
   "source": [
    "sns.boxenplot(x='specialisation',y='degree_percentage',data=df)\n",
    "plt.title('Difference in Degree Percentage by Specialisation')\n",
    "plt.show()"
   ]
  },
  {
   "cell_type": "markdown",
   "id": "8009bddc",
   "metadata": {},
   "source": [
    "# categorical features into binary/dummy variables"
   ]
  },
  {
   "cell_type": "code",
   "execution_count": 15,
   "id": "89a87fbf",
   "metadata": {},
   "outputs": [],
   "source": [
    "df = pd.get_dummies(df,columns=['gender', 'ssc_board', 'hsc_board', 'hsc_subject', 'undergrad_degree', 'work_experience', 'specialisation', 'status'],drop_first=True)"
   ]
  },
  {
   "cell_type": "code",
   "execution_count": 16,
   "id": "92f25bc4",
   "metadata": {},
   "outputs": [
    {
     "data": {
      "text/html": [
       "<div>\n",
       "<style scoped>\n",
       "    .dataframe tbody tr th:only-of-type {\n",
       "        vertical-align: middle;\n",
       "    }\n",
       "\n",
       "    .dataframe tbody tr th {\n",
       "        vertical-align: top;\n",
       "    }\n",
       "\n",
       "    .dataframe thead th {\n",
       "        text-align: right;\n",
       "    }\n",
       "</style>\n",
       "<table border=\"1\" class=\"dataframe\">\n",
       "  <thead>\n",
       "    <tr style=\"text-align: right;\">\n",
       "      <th></th>\n",
       "      <th>ssc_percentage</th>\n",
       "      <th>hsc_percentage</th>\n",
       "      <th>degree_percentage</th>\n",
       "      <th>emp_test_percentage</th>\n",
       "      <th>mba_percent</th>\n",
       "      <th>gender_M</th>\n",
       "      <th>ssc_board_Others</th>\n",
       "      <th>hsc_board_Others</th>\n",
       "      <th>hsc_subject_Commerce</th>\n",
       "      <th>hsc_subject_Science</th>\n",
       "      <th>undergrad_degree_Others</th>\n",
       "      <th>undergrad_degree_Sci&amp;Tech</th>\n",
       "      <th>work_experience_Yes</th>\n",
       "      <th>specialisation_Mkt&amp;HR</th>\n",
       "      <th>status_Placed</th>\n",
       "    </tr>\n",
       "  </thead>\n",
       "  <tbody>\n",
       "    <tr>\n",
       "      <th>0</th>\n",
       "      <td>67.00</td>\n",
       "      <td>91.00</td>\n",
       "      <td>58.00</td>\n",
       "      <td>55.0</td>\n",
       "      <td>58.80</td>\n",
       "      <td>1</td>\n",
       "      <td>1</td>\n",
       "      <td>1</td>\n",
       "      <td>1</td>\n",
       "      <td>0</td>\n",
       "      <td>0</td>\n",
       "      <td>1</td>\n",
       "      <td>0</td>\n",
       "      <td>1</td>\n",
       "      <td>1</td>\n",
       "    </tr>\n",
       "    <tr>\n",
       "      <th>1</th>\n",
       "      <td>79.33</td>\n",
       "      <td>78.33</td>\n",
       "      <td>77.48</td>\n",
       "      <td>86.5</td>\n",
       "      <td>66.28</td>\n",
       "      <td>1</td>\n",
       "      <td>0</td>\n",
       "      <td>1</td>\n",
       "      <td>0</td>\n",
       "      <td>1</td>\n",
       "      <td>0</td>\n",
       "      <td>1</td>\n",
       "      <td>1</td>\n",
       "      <td>0</td>\n",
       "      <td>1</td>\n",
       "    </tr>\n",
       "    <tr>\n",
       "      <th>2</th>\n",
       "      <td>65.00</td>\n",
       "      <td>68.00</td>\n",
       "      <td>64.00</td>\n",
       "      <td>75.0</td>\n",
       "      <td>57.80</td>\n",
       "      <td>1</td>\n",
       "      <td>0</td>\n",
       "      <td>0</td>\n",
       "      <td>0</td>\n",
       "      <td>0</td>\n",
       "      <td>0</td>\n",
       "      <td>0</td>\n",
       "      <td>0</td>\n",
       "      <td>0</td>\n",
       "      <td>1</td>\n",
       "    </tr>\n",
       "    <tr>\n",
       "      <th>3</th>\n",
       "      <td>56.00</td>\n",
       "      <td>52.00</td>\n",
       "      <td>52.00</td>\n",
       "      <td>66.0</td>\n",
       "      <td>59.43</td>\n",
       "      <td>1</td>\n",
       "      <td>0</td>\n",
       "      <td>0</td>\n",
       "      <td>0</td>\n",
       "      <td>1</td>\n",
       "      <td>0</td>\n",
       "      <td>1</td>\n",
       "      <td>0</td>\n",
       "      <td>1</td>\n",
       "      <td>0</td>\n",
       "    </tr>\n",
       "    <tr>\n",
       "      <th>4</th>\n",
       "      <td>85.80</td>\n",
       "      <td>73.60</td>\n",
       "      <td>73.30</td>\n",
       "      <td>96.8</td>\n",
       "      <td>55.50</td>\n",
       "      <td>1</td>\n",
       "      <td>0</td>\n",
       "      <td>0</td>\n",
       "      <td>1</td>\n",
       "      <td>0</td>\n",
       "      <td>0</td>\n",
       "      <td>0</td>\n",
       "      <td>0</td>\n",
       "      <td>0</td>\n",
       "      <td>1</td>\n",
       "    </tr>\n",
       "    <tr>\n",
       "      <th>...</th>\n",
       "      <td>...</td>\n",
       "      <td>...</td>\n",
       "      <td>...</td>\n",
       "      <td>...</td>\n",
       "      <td>...</td>\n",
       "      <td>...</td>\n",
       "      <td>...</td>\n",
       "      <td>...</td>\n",
       "      <td>...</td>\n",
       "      <td>...</td>\n",
       "      <td>...</td>\n",
       "      <td>...</td>\n",
       "      <td>...</td>\n",
       "      <td>...</td>\n",
       "      <td>...</td>\n",
       "    </tr>\n",
       "    <tr>\n",
       "      <th>210</th>\n",
       "      <td>80.60</td>\n",
       "      <td>82.00</td>\n",
       "      <td>77.60</td>\n",
       "      <td>91.0</td>\n",
       "      <td>74.49</td>\n",
       "      <td>1</td>\n",
       "      <td>1</td>\n",
       "      <td>1</td>\n",
       "      <td>1</td>\n",
       "      <td>0</td>\n",
       "      <td>0</td>\n",
       "      <td>0</td>\n",
       "      <td>0</td>\n",
       "      <td>0</td>\n",
       "      <td>1</td>\n",
       "    </tr>\n",
       "    <tr>\n",
       "      <th>211</th>\n",
       "      <td>58.00</td>\n",
       "      <td>60.00</td>\n",
       "      <td>72.00</td>\n",
       "      <td>74.0</td>\n",
       "      <td>53.62</td>\n",
       "      <td>1</td>\n",
       "      <td>1</td>\n",
       "      <td>1</td>\n",
       "      <td>0</td>\n",
       "      <td>1</td>\n",
       "      <td>0</td>\n",
       "      <td>1</td>\n",
       "      <td>0</td>\n",
       "      <td>0</td>\n",
       "      <td>1</td>\n",
       "    </tr>\n",
       "    <tr>\n",
       "      <th>212</th>\n",
       "      <td>67.00</td>\n",
       "      <td>67.00</td>\n",
       "      <td>73.00</td>\n",
       "      <td>59.0</td>\n",
       "      <td>69.72</td>\n",
       "      <td>1</td>\n",
       "      <td>1</td>\n",
       "      <td>1</td>\n",
       "      <td>1</td>\n",
       "      <td>0</td>\n",
       "      <td>0</td>\n",
       "      <td>0</td>\n",
       "      <td>1</td>\n",
       "      <td>0</td>\n",
       "      <td>1</td>\n",
       "    </tr>\n",
       "    <tr>\n",
       "      <th>213</th>\n",
       "      <td>74.00</td>\n",
       "      <td>66.00</td>\n",
       "      <td>58.00</td>\n",
       "      <td>70.0</td>\n",
       "      <td>60.23</td>\n",
       "      <td>0</td>\n",
       "      <td>1</td>\n",
       "      <td>1</td>\n",
       "      <td>1</td>\n",
       "      <td>0</td>\n",
       "      <td>0</td>\n",
       "      <td>0</td>\n",
       "      <td>0</td>\n",
       "      <td>1</td>\n",
       "      <td>1</td>\n",
       "    </tr>\n",
       "    <tr>\n",
       "      <th>214</th>\n",
       "      <td>62.00</td>\n",
       "      <td>58.00</td>\n",
       "      <td>53.00</td>\n",
       "      <td>89.0</td>\n",
       "      <td>60.22</td>\n",
       "      <td>1</td>\n",
       "      <td>0</td>\n",
       "      <td>1</td>\n",
       "      <td>0</td>\n",
       "      <td>1</td>\n",
       "      <td>0</td>\n",
       "      <td>0</td>\n",
       "      <td>0</td>\n",
       "      <td>1</td>\n",
       "      <td>0</td>\n",
       "    </tr>\n",
       "  </tbody>\n",
       "</table>\n",
       "<p>215 rows × 15 columns</p>\n",
       "</div>"
      ],
      "text/plain": [
       "     ssc_percentage  hsc_percentage  degree_percentage  emp_test_percentage  \\\n",
       "0             67.00           91.00              58.00                 55.0   \n",
       "1             79.33           78.33              77.48                 86.5   \n",
       "2             65.00           68.00              64.00                 75.0   \n",
       "3             56.00           52.00              52.00                 66.0   \n",
       "4             85.80           73.60              73.30                 96.8   \n",
       "..              ...             ...                ...                  ...   \n",
       "210           80.60           82.00              77.60                 91.0   \n",
       "211           58.00           60.00              72.00                 74.0   \n",
       "212           67.00           67.00              73.00                 59.0   \n",
       "213           74.00           66.00              58.00                 70.0   \n",
       "214           62.00           58.00              53.00                 89.0   \n",
       "\n",
       "     mba_percent  gender_M  ssc_board_Others  hsc_board_Others  \\\n",
       "0          58.80         1                 1                 1   \n",
       "1          66.28         1                 0                 1   \n",
       "2          57.80         1                 0                 0   \n",
       "3          59.43         1                 0                 0   \n",
       "4          55.50         1                 0                 0   \n",
       "..           ...       ...               ...               ...   \n",
       "210        74.49         1                 1                 1   \n",
       "211        53.62         1                 1                 1   \n",
       "212        69.72         1                 1                 1   \n",
       "213        60.23         0                 1                 1   \n",
       "214        60.22         1                 0                 1   \n",
       "\n",
       "     hsc_subject_Commerce  hsc_subject_Science  undergrad_degree_Others  \\\n",
       "0                       1                    0                        0   \n",
       "1                       0                    1                        0   \n",
       "2                       0                    0                        0   \n",
       "3                       0                    1                        0   \n",
       "4                       1                    0                        0   \n",
       "..                    ...                  ...                      ...   \n",
       "210                     1                    0                        0   \n",
       "211                     0                    1                        0   \n",
       "212                     1                    0                        0   \n",
       "213                     1                    0                        0   \n",
       "214                     0                    1                        0   \n",
       "\n",
       "     undergrad_degree_Sci&Tech  work_experience_Yes  specialisation_Mkt&HR  \\\n",
       "0                            1                    0                      1   \n",
       "1                            1                    1                      0   \n",
       "2                            0                    0                      0   \n",
       "3                            1                    0                      1   \n",
       "4                            0                    0                      0   \n",
       "..                         ...                  ...                    ...   \n",
       "210                          0                    0                      0   \n",
       "211                          1                    0                      0   \n",
       "212                          0                    1                      0   \n",
       "213                          0                    0                      1   \n",
       "214                          0                    0                      1   \n",
       "\n",
       "     status_Placed  \n",
       "0                1  \n",
       "1                1  \n",
       "2                1  \n",
       "3                0  \n",
       "4                1  \n",
       "..             ...  \n",
       "210              1  \n",
       "211              1  \n",
       "212              1  \n",
       "213              1  \n",
       "214              0  \n",
       "\n",
       "[215 rows x 15 columns]"
      ]
     },
     "execution_count": 16,
     "metadata": {},
     "output_type": "execute_result"
    }
   ],
   "source": [
    "df"
   ]
  },
  {
   "cell_type": "markdown",
   "id": "c7400560",
   "metadata": {},
   "source": [
    "# Train Test Split"
   ]
  },
  {
   "cell_type": "code",
   "execution_count": 17,
   "id": "e66a1c73",
   "metadata": {},
   "outputs": [],
   "source": [
    "x = df.drop('status_Placed',axis=1)\n",
    "y = df['status_Placed']"
   ]
  },
  {
   "cell_type": "code",
   "execution_count": 18,
   "id": "cf8deb1d",
   "metadata": {},
   "outputs": [
    {
     "name": "stdout",
     "output_type": "stream",
     "text": [
      "(215, 14) \n",
      "\n",
      " (215,)\n"
     ]
    }
   ],
   "source": [
    "print(x.shape,'\\n\\n',y.shape)"
   ]
  },
  {
   "cell_type": "code",
   "execution_count": 19,
   "id": "0e312956",
   "metadata": {},
   "outputs": [],
   "source": [
    "from sklearn.model_selection import train_test_split"
   ]
  },
  {
   "cell_type": "code",
   "execution_count": 20,
   "id": "cd3dbaaa",
   "metadata": {},
   "outputs": [
    {
     "name": "stdout",
     "output_type": "stream",
     "text": [
      "(172, 14) \n",
      "\n",
      " (43, 14)\n"
     ]
    }
   ],
   "source": [
    "X_train, X_test, y_train, y_test = train_test_split(x, y, test_size=0.2, random_state=2)\n",
    "print(X_train.shape,'\\n\\n',X_test.shape)"
   ]
  },
  {
   "cell_type": "markdown",
   "id": "34980317",
   "metadata": {},
   "source": [
    "# Train Logistic Model"
   ]
  },
  {
   "cell_type": "code",
   "execution_count": 21,
   "id": "55c42391",
   "metadata": {},
   "outputs": [
    {
     "name": "stderr",
     "output_type": "stream",
     "text": [
      "c:\\python\\lib\\site-packages\\sklearn\\linear_model\\_logistic.py:458: ConvergenceWarning: lbfgs failed to converge (status=1):\n",
      "STOP: TOTAL NO. of ITERATIONS REACHED LIMIT.\n",
      "\n",
      "Increase the number of iterations (max_iter) or scale the data as shown in:\n",
      "    https://scikit-learn.org/stable/modules/preprocessing.html\n",
      "Please also refer to the documentation for alternative solver options:\n",
      "    https://scikit-learn.org/stable/modules/linear_model.html#logistic-regression\n",
      "  n_iter_i = _check_optimize_result(\n"
     ]
    }
   ],
   "source": [
    "from sklearn.linear_model import LogisticRegression\n",
    "lg = LogisticRegression()\n",
    "lg.fit(X_train,y_train)\n",
    "y_pred = lg.predict(X_test)"
   ]
  },
  {
   "cell_type": "markdown",
   "id": "b571d65b",
   "metadata": {},
   "source": [
    "# comparison between outputs"
   ]
  },
  {
   "cell_type": "code",
   "execution_count": 22,
   "id": "40ff4d06",
   "metadata": {},
   "outputs": [
    {
     "name": "stdout",
     "output_type": "stream",
     "text": [
      "0.813953488372093\n"
     ]
    }
   ],
   "source": [
    "from sklearn.metrics import accuracy_score\n",
    "print(accuracy_score(y_test,y_pred))"
   ]
  },
  {
   "cell_type": "code",
   "execution_count": 23,
   "id": "de863336",
   "metadata": {},
   "outputs": [
    {
     "data": {
      "text/html": [
       "<div>\n",
       "<style scoped>\n",
       "    .dataframe tbody tr th:only-of-type {\n",
       "        vertical-align: middle;\n",
       "    }\n",
       "\n",
       "    .dataframe tbody tr th {\n",
       "        vertical-align: top;\n",
       "    }\n",
       "\n",
       "    .dataframe thead th {\n",
       "        text-align: right;\n",
       "    }\n",
       "</style>\n",
       "<table border=\"1\" class=\"dataframe\">\n",
       "  <thead>\n",
       "    <tr style=\"text-align: right;\">\n",
       "      <th></th>\n",
       "      <th>ssc_percentage</th>\n",
       "      <th>hsc_percentage</th>\n",
       "      <th>degree_percentage</th>\n",
       "      <th>emp_test_percentage</th>\n",
       "      <th>mba_percent</th>\n",
       "      <th>gender_M</th>\n",
       "      <th>ssc_board_Others</th>\n",
       "      <th>hsc_board_Others</th>\n",
       "      <th>hsc_subject_Commerce</th>\n",
       "      <th>hsc_subject_Science</th>\n",
       "      <th>undergrad_degree_Others</th>\n",
       "      <th>undergrad_degree_Sci&amp;Tech</th>\n",
       "      <th>work_experience_Yes</th>\n",
       "      <th>specialisation_Mkt&amp;HR</th>\n",
       "      <th>status_Placed</th>\n",
       "    </tr>\n",
       "  </thead>\n",
       "  <tbody>\n",
       "    <tr>\n",
       "      <th>173</th>\n",
       "      <td>52.0</td>\n",
       "      <td>52.0</td>\n",
       "      <td>55.0</td>\n",
       "      <td>67.00</td>\n",
       "      <td>59.32</td>\n",
       "      <td>0</td>\n",
       "      <td>1</td>\n",
       "      <td>1</td>\n",
       "      <td>0</td>\n",
       "      <td>1</td>\n",
       "      <td>0</td>\n",
       "      <td>1</td>\n",
       "      <td>0</td>\n",
       "      <td>1</td>\n",
       "      <td>0</td>\n",
       "    </tr>\n",
       "    <tr>\n",
       "      <th>214</th>\n",
       "      <td>62.0</td>\n",
       "      <td>58.0</td>\n",
       "      <td>53.0</td>\n",
       "      <td>89.00</td>\n",
       "      <td>60.22</td>\n",
       "      <td>1</td>\n",
       "      <td>0</td>\n",
       "      <td>1</td>\n",
       "      <td>0</td>\n",
       "      <td>1</td>\n",
       "      <td>0</td>\n",
       "      <td>0</td>\n",
       "      <td>0</td>\n",
       "      <td>1</td>\n",
       "      <td>0</td>\n",
       "    </tr>\n",
       "    <tr>\n",
       "      <th>68</th>\n",
       "      <td>69.7</td>\n",
       "      <td>47.0</td>\n",
       "      <td>72.7</td>\n",
       "      <td>79.00</td>\n",
       "      <td>59.24</td>\n",
       "      <td>0</td>\n",
       "      <td>0</td>\n",
       "      <td>0</td>\n",
       "      <td>1</td>\n",
       "      <td>0</td>\n",
       "      <td>0</td>\n",
       "      <td>1</td>\n",
       "      <td>0</td>\n",
       "      <td>1</td>\n",
       "      <td>0</td>\n",
       "    </tr>\n",
       "    <tr>\n",
       "      <th>149</th>\n",
       "      <td>44.0</td>\n",
       "      <td>58.0</td>\n",
       "      <td>55.0</td>\n",
       "      <td>64.25</td>\n",
       "      <td>58.54</td>\n",
       "      <td>1</td>\n",
       "      <td>0</td>\n",
       "      <td>0</td>\n",
       "      <td>0</td>\n",
       "      <td>0</td>\n",
       "      <td>0</td>\n",
       "      <td>0</td>\n",
       "      <td>1</td>\n",
       "      <td>1</td>\n",
       "      <td>0</td>\n",
       "    </tr>\n",
       "    <tr>\n",
       "      <th>159</th>\n",
       "      <td>52.0</td>\n",
       "      <td>49.0</td>\n",
       "      <td>58.0</td>\n",
       "      <td>62.00</td>\n",
       "      <td>60.59</td>\n",
       "      <td>1</td>\n",
       "      <td>0</td>\n",
       "      <td>1</td>\n",
       "      <td>1</td>\n",
       "      <td>0</td>\n",
       "      <td>0</td>\n",
       "      <td>0</td>\n",
       "      <td>0</td>\n",
       "      <td>1</td>\n",
       "      <td>0</td>\n",
       "    </tr>\n",
       "  </tbody>\n",
       "</table>\n",
       "</div>"
      ],
      "text/plain": [
       "     ssc_percentage  hsc_percentage  degree_percentage  emp_test_percentage  \\\n",
       "173            52.0            52.0               55.0                67.00   \n",
       "214            62.0            58.0               53.0                89.00   \n",
       "68             69.7            47.0               72.7                79.00   \n",
       "149            44.0            58.0               55.0                64.25   \n",
       "159            52.0            49.0               58.0                62.00   \n",
       "\n",
       "     mba_percent  gender_M  ssc_board_Others  hsc_board_Others  \\\n",
       "173        59.32         0                 1                 1   \n",
       "214        60.22         1                 0                 1   \n",
       "68         59.24         0                 0                 0   \n",
       "149        58.54         1                 0                 0   \n",
       "159        60.59         1                 0                 1   \n",
       "\n",
       "     hsc_subject_Commerce  hsc_subject_Science  undergrad_degree_Others  \\\n",
       "173                     0                    1                        0   \n",
       "214                     0                    1                        0   \n",
       "68                      1                    0                        0   \n",
       "149                     0                    0                        0   \n",
       "159                     1                    0                        0   \n",
       "\n",
       "     undergrad_degree_Sci&Tech  work_experience_Yes  specialisation_Mkt&HR  \\\n",
       "173                          1                    0                      1   \n",
       "214                          0                    0                      1   \n",
       "68                           1                    0                      1   \n",
       "149                          0                    1                      1   \n",
       "159                          0                    0                      1   \n",
       "\n",
       "     status_Placed  \n",
       "173              0  \n",
       "214              0  \n",
       "68               0  \n",
       "149              0  \n",
       "159              0  "
      ]
     },
     "execution_count": 23,
     "metadata": {},
     "output_type": "execute_result"
    }
   ],
   "source": [
    "df.sample(5)"
   ]
  },
  {
   "cell_type": "markdown",
   "id": "ee3911e9",
   "metadata": {},
   "source": [
    "# Prediction System"
   ]
  },
  {
   "cell_type": "code",
   "execution_count": 24,
   "id": "53454fdb",
   "metadata": {},
   "outputs": [
    {
     "name": "stdout",
     "output_type": "stream",
     "text": [
      "this person is not placed for the job\n"
     ]
    },
    {
     "name": "stderr",
     "output_type": "stream",
     "text": [
      "c:\\python\\lib\\site-packages\\sklearn\\base.py:439: UserWarning: X does not have valid feature names, but LogisticRegression was fitted with feature names\n",
      "  warnings.warn(\n"
     ]
    }
   ],
   "source": [
    "input_data = (67.0,70.0,65.0,88.00,71.96,0,0,0,1,0,1,0,0,1)\n",
    "\n",
    "np_df = np.asarray(input_data)\n",
    "reshaped_df = np_df.reshape(1,-1)\n",
    "pred = lg.predict(reshaped_df)\n",
    "if pred[0] == 1:\n",
    "    print(\"this person is placed for the job\")\n",
    "else:\n",
    "    print(\"this person is not placed for the job\")\n",
    "    \n",
    "    \n",
    "import pickle\n",
    "pickle.dump(lg,open('placement.pkl','wb'))"
   ]
  },
  {
   "cell_type": "code",
   "execution_count": null,
   "id": "0212d4dd",
   "metadata": {},
   "outputs": [],
   "source": []
  }
 ],
 "metadata": {
  "kernelspec": {
   "display_name": "Python 3 (ipykernel)",
   "language": "python",
   "name": "python3"
  },
  "language_info": {
   "codemirror_mode": {
    "name": "ipython",
    "version": 3
   },
   "file_extension": ".py",
   "mimetype": "text/x-python",
   "name": "python",
   "nbconvert_exporter": "python",
   "pygments_lexer": "ipython3",
   "version": "3.10.6"
  }
 },
 "nbformat": 4,
 "nbformat_minor": 5
}
